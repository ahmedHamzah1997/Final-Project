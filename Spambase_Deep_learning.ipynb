{
 "cells": [
  {
   "cell_type": "code",
   "execution_count": 1,
   "metadata": {
    "id": "rBFjq-IETsLi"
   },
   "outputs": [
    {
     "name": "stderr",
     "output_type": "stream",
     "text": [
      "Using TensorFlow backend.\n",
      "/Users/ahmed/opt/anaconda3/envs/new2/lib/python3.7/site-packages/tensorflow/python/framework/dtypes.py:516: FutureWarning: Passing (type, 1) or '1type' as a synonym of type is deprecated; in a future version of numpy, it will be understood as (type, (1,)) / '(1,)type'.\n",
      "  _np_qint8 = np.dtype([(\"qint8\", np.int8, 1)])\n",
      "/Users/ahmed/opt/anaconda3/envs/new2/lib/python3.7/site-packages/tensorflow/python/framework/dtypes.py:517: FutureWarning: Passing (type, 1) or '1type' as a synonym of type is deprecated; in a future version of numpy, it will be understood as (type, (1,)) / '(1,)type'.\n",
      "  _np_quint8 = np.dtype([(\"quint8\", np.uint8, 1)])\n",
      "/Users/ahmed/opt/anaconda3/envs/new2/lib/python3.7/site-packages/tensorflow/python/framework/dtypes.py:518: FutureWarning: Passing (type, 1) or '1type' as a synonym of type is deprecated; in a future version of numpy, it will be understood as (type, (1,)) / '(1,)type'.\n",
      "  _np_qint16 = np.dtype([(\"qint16\", np.int16, 1)])\n",
      "/Users/ahmed/opt/anaconda3/envs/new2/lib/python3.7/site-packages/tensorflow/python/framework/dtypes.py:519: FutureWarning: Passing (type, 1) or '1type' as a synonym of type is deprecated; in a future version of numpy, it will be understood as (type, (1,)) / '(1,)type'.\n",
      "  _np_quint16 = np.dtype([(\"quint16\", np.uint16, 1)])\n",
      "/Users/ahmed/opt/anaconda3/envs/new2/lib/python3.7/site-packages/tensorflow/python/framework/dtypes.py:520: FutureWarning: Passing (type, 1) or '1type' as a synonym of type is deprecated; in a future version of numpy, it will be understood as (type, (1,)) / '(1,)type'.\n",
      "  _np_qint32 = np.dtype([(\"qint32\", np.int32, 1)])\n",
      "/Users/ahmed/opt/anaconda3/envs/new2/lib/python3.7/site-packages/tensorflow/python/framework/dtypes.py:525: FutureWarning: Passing (type, 1) or '1type' as a synonym of type is deprecated; in a future version of numpy, it will be understood as (type, (1,)) / '(1,)type'.\n",
      "  np_resource = np.dtype([(\"resource\", np.ubyte, 1)])\n",
      "/Users/ahmed/opt/anaconda3/envs/new2/lib/python3.7/site-packages/tensorboard/compat/tensorflow_stub/dtypes.py:541: FutureWarning: Passing (type, 1) or '1type' as a synonym of type is deprecated; in a future version of numpy, it will be understood as (type, (1,)) / '(1,)type'.\n",
      "  _np_qint8 = np.dtype([(\"qint8\", np.int8, 1)])\n",
      "/Users/ahmed/opt/anaconda3/envs/new2/lib/python3.7/site-packages/tensorboard/compat/tensorflow_stub/dtypes.py:542: FutureWarning: Passing (type, 1) or '1type' as a synonym of type is deprecated; in a future version of numpy, it will be understood as (type, (1,)) / '(1,)type'.\n",
      "  _np_quint8 = np.dtype([(\"quint8\", np.uint8, 1)])\n",
      "/Users/ahmed/opt/anaconda3/envs/new2/lib/python3.7/site-packages/tensorboard/compat/tensorflow_stub/dtypes.py:543: FutureWarning: Passing (type, 1) or '1type' as a synonym of type is deprecated; in a future version of numpy, it will be understood as (type, (1,)) / '(1,)type'.\n",
      "  _np_qint16 = np.dtype([(\"qint16\", np.int16, 1)])\n",
      "/Users/ahmed/opt/anaconda3/envs/new2/lib/python3.7/site-packages/tensorboard/compat/tensorflow_stub/dtypes.py:544: FutureWarning: Passing (type, 1) or '1type' as a synonym of type is deprecated; in a future version of numpy, it will be understood as (type, (1,)) / '(1,)type'.\n",
      "  _np_quint16 = np.dtype([(\"quint16\", np.uint16, 1)])\n",
      "/Users/ahmed/opt/anaconda3/envs/new2/lib/python3.7/site-packages/tensorboard/compat/tensorflow_stub/dtypes.py:545: FutureWarning: Passing (type, 1) or '1type' as a synonym of type is deprecated; in a future version of numpy, it will be understood as (type, (1,)) / '(1,)type'.\n",
      "  _np_qint32 = np.dtype([(\"qint32\", np.int32, 1)])\n",
      "/Users/ahmed/opt/anaconda3/envs/new2/lib/python3.7/site-packages/tensorboard/compat/tensorflow_stub/dtypes.py:550: FutureWarning: Passing (type, 1) or '1type' as a synonym of type is deprecated; in a future version of numpy, it will be understood as (type, (1,)) / '(1,)type'.\n",
      "  np_resource = np.dtype([(\"resource\", np.ubyte, 1)])\n"
     ]
    }
   ],
   "source": [
    "import numpy as np\n",
    "from keras import datasets, models, layers\n",
    "from keras.utils.np_utils import to_categorical\n",
    "import matplotlib.pyplot as plt\n",
    "import pandas as pd\n",
    "import os\n",
    "os.environ['KMP_DUPLICATE_LIB_OK']='True'\n",
    "%matplotlib inline\n",
    "import seaborn as sns; sns.set()\n"
   ]
  },
  {
   "cell_type": "markdown",
   "metadata": {
    "id": "-3oJPADAXU18"
   },
   "source": [
    "#  Load data & prepare the data"
   ]
  },
  {
   "cell_type": "code",
   "execution_count": 2,
   "metadata": {
    "id": "QGRMYG87iwuc"
   },
   "outputs": [],
   "source": [
    "df = pd.read_csv('spambase.data', header=None)"
   ]
  },
  {
   "cell_type": "code",
   "execution_count": 3,
   "metadata": {
    "colab": {
     "base_uri": "https://localhost:8080/"
    },
    "id": "O4B67lsSi36B",
    "outputId": "84ccba5d-b0a0-4fc7-aad6-8885de848a26"
   },
   "outputs": [
    {
     "data": {
      "text/plain": [
       "(4601, 58)"
      ]
     },
     "execution_count": 3,
     "metadata": {},
     "output_type": "execute_result"
    }
   ],
   "source": [
    "df.shape"
   ]
  },
  {
   "cell_type": "code",
   "execution_count": 4,
   "metadata": {
    "colab": {
     "base_uri": "https://localhost:8080/"
    },
    "id": "ZO4AsA1rjTTX",
    "outputId": "bb4f3319-595f-4548-d56e-0f25f34b9f15"
   },
   "outputs": [
    {
     "data": {
      "text/plain": [
       "0    2788\n",
       "1    1813\n",
       "Name: 57, dtype: int64"
      ]
     },
     "execution_count": 4,
     "metadata": {},
     "output_type": "execute_result"
    }
   ],
   "source": [
    "df.iloc[:, -1].value_counts()"
   ]
  },
  {
   "cell_type": "code",
   "execution_count": 5,
   "metadata": {
    "id": "Y-QpWJ0Zj7l8"
   },
   "outputs": [],
   "source": [
    "def load_spam_data ():\n",
    "\n",
    "  df = pd.read_csv('spambase.data', header=None)\n",
    "\n",
    "  # train test split\n",
    "\n",
    "  np.random.seed(42)                                                               \n",
    "  ind_train_class_0 = np.random.choice(df[df.iloc[:,-1]==0].index, 1500, replace=False) \n",
    "  ind_train_class_1 = np.random.choice(df[df.iloc[:,-1]==1].index, 1500, replace=False) \n",
    "  ind_train = []                                                                      \n",
    "  [ind_train.append(i) for i in ind_train_class_0]                                   \n",
    "  [ind_train.append(i) for i in ind_train_class_1]                                    \n",
    "  train_data = df.iloc[ind_train,:-1]                                                   \n",
    "  train_target = df.iloc[ind_train,-1]                                                  \n",
    "  train_target.value_counts()\n",
    "\n",
    "  # the rest will be use for testing\n",
    "  ind_test = []\n",
    "  [ind_test.append(i) for i in df.index if (i not in ind_train)]\n",
    "  test_data = df.iloc[ind_test,:-1]\n",
    "  test_target = df.iloc[ind_test,-1]\n",
    "\n",
    "  train_data, test_data, train_target, test_target = train_data.to_numpy() , test_data.to_numpy(), train_target.to_numpy(), test_target.to_numpy()\n",
    "\n",
    "  # normalize\n",
    "  mean = train_data.mean(axis=0)\n",
    "  train_data -= mean\n",
    "  std = train_data.std(axis=0)\n",
    "  train_data /= std\n",
    "\n",
    "  test_data -= mean\n",
    "  test_data /= std\n",
    "\n",
    "  return (train_data, train_target) , (test_data, test_target)"
   ]
  },
  {
   "cell_type": "code",
   "execution_count": 6,
   "metadata": {
    "id": "LNoL7zEbkUC0"
   },
   "outputs": [],
   "source": [
    "(train_data, train_target) , (test_data, test_target) = load_spam_data()"
   ]
  },
  {
   "cell_type": "code",
   "execution_count": 7,
   "metadata": {
    "colab": {
     "base_uri": "https://localhost:8080/"
    },
    "id": "NGLfrjqfkzuh",
    "outputId": "eca2ee57-cc2b-4bac-97c2-e019aba7b840"
   },
   "outputs": [
    {
     "data": {
      "text/plain": [
       "(3000, 57)"
      ]
     },
     "execution_count": 7,
     "metadata": {},
     "output_type": "execute_result"
    }
   ],
   "source": [
    "train_data.shape"
   ]
  },
  {
   "cell_type": "code",
   "execution_count": 8,
   "metadata": {
    "colab": {
     "base_uri": "https://localhost:8080/"
    },
    "id": "R6Bo9Ugrk1to",
    "outputId": "a849e073-61e5-4dbf-bfdd-eacd813f54b4"
   },
   "outputs": [
    {
     "data": {
      "text/plain": [
       "600"
      ]
     },
     "execution_count": 8,
     "metadata": {},
     "output_type": "execute_result"
    }
   ],
   "source": [
    "# Create validation set\n",
    "np.random.seed(42)\n",
    "ind_Validation_class_0 = np.random.choice(np.where(train_target == 0)[0], 300, replace=False)\n",
    "ind_Validation_class_1 = np.random.choice(np.where(train_target == 1)[0], 300, replace=False)\n",
    "ind_Validation = []\n",
    "s = [ind_Validation.append(i) for i in ind_Validation_class_0]\n",
    "s = [ind_Validation.append(i) for i in ind_Validation_class_1]\n",
    "len(ind_Validation)"
   ]
  },
  {
   "cell_type": "code",
   "execution_count": 9,
   "metadata": {
    "colab": {
     "base_uri": "https://localhost:8080/"
    },
    "id": "8-imslPZk4yc",
    "outputId": "19c966ca-37ff-42a4-8276-95f0673dd44e"
   },
   "outputs": [
    {
     "data": {
      "text/plain": [
       "2400"
      ]
     },
     "execution_count": 9,
     "metadata": {},
     "output_type": "execute_result"
    }
   ],
   "source": [
    "# Validation set\n",
    "x_Validation = train_data[ind_Validation]\n",
    "y_Validation = train_target[ind_Validation]\n",
    "# training set\n",
    "train_ind = []\n",
    "s = [train_ind.append(i) for i in np.where(train_target == 0)[0] if i not in ind_Validation]\n",
    "s = [train_ind.append(i) for i in np.where(train_target == 1)[0] if i not in ind_Validation]\n",
    "x_train = train_data[train_ind]\n",
    "y_train = train_target[train_ind]\n",
    "len(y_train)"
   ]
  },
  {
   "cell_type": "code",
   "execution_count": 10,
   "metadata": {
    "colab": {
     "base_uri": "https://localhost:8080/"
    },
    "id": "SXBPARxGqc5l",
    "outputId": "5400faf9-4a7d-4d68-d1ee-77573ebeba5d"
   },
   "outputs": [
    {
     "data": {
      "text/plain": [
       "1200"
      ]
     },
     "execution_count": 10,
     "metadata": {},
     "output_type": "execute_result"
    }
   ],
   "source": [
    "sum(y_train)"
   ]
  },
  {
   "cell_type": "markdown",
   "metadata": {
    "id": "E_-0VUedZr-h"
   },
   "source": [
    "# Model and evaluation"
   ]
  },
  {
   "cell_type": "code",
   "execution_count": 11,
   "metadata": {
    "colab": {
     "base_uri": "https://localhost:8080/"
    },
    "id": "klI2k6zmZ9je",
    "outputId": "0cb5a61c-4f9b-4230-efbc-5c4a5a731c9f"
   },
   "outputs": [],
   "source": [
    "model = models.Sequential()\n",
    "model.add(layers.Dense(26, activation='relu', input_shape=(57,)))\n",
    "model.add(layers.Dense(1, activation='sigmoid'))"
   ]
  },
  {
   "cell_type": "code",
   "execution_count": 12,
   "metadata": {
    "id": "JlPmwMPUaKU-"
   },
   "outputs": [
    {
     "name": "stdout",
     "output_type": "stream",
     "text": [
      "WARNING:tensorflow:From /Users/ahmed/opt/anaconda3/envs/new2/lib/python3.7/site-packages/tensorflow/python/ops/nn_impl.py:180: add_dispatch_support.<locals>.wrapper (from tensorflow.python.ops.array_ops) is deprecated and will be removed in a future version.\n",
      "Instructions for updating:\n",
      "Use tf.where in 2.0, which has the same broadcast rule as np.where\n"
     ]
    }
   ],
   "source": [
    "model.compile(optimizer='adam',loss='binary_crossentropy', metrics=['accuracy'])\n"
   ]
  },
  {
   "cell_type": "code",
   "execution_count": 13,
   "metadata": {
    "colab": {
     "base_uri": "https://localhost:8080/"
    },
    "id": "3F-67_1ZbRCL",
    "outputId": "a12d79e6-0a89-42a7-b303-eb6a342076aa"
   },
   "outputs": [
    {
     "name": "stdout",
     "output_type": "stream",
     "text": [
      "WARNING:tensorflow:From /Users/ahmed/opt/anaconda3/envs/new2/lib/python3.7/site-packages/keras/backend/tensorflow_backend.py:422: The name tf.global_variables is deprecated. Please use tf.compat.v1.global_variables instead.\n",
      "\n"
     ]
    },
    {
     "name": "stderr",
     "output_type": "stream",
     "text": [
      "2021-12-05 18:50:20.284448: I tensorflow/core/platform/cpu_feature_guard.cc:142] Your CPU supports instructions that this TensorFlow binary was not compiled to use: AVX2 FMA\n"
     ]
    },
    {
     "name": "stdout",
     "output_type": "stream",
     "text": [
      "Train on 2400 samples, validate on 600 samples\n",
      "Epoch 1/200\n",
      "2400/2400 [==============================] - 0s 113us/step - loss: 0.7215 - accuracy: 0.5875 - val_loss: 0.6830 - val_accuracy: 0.6250\n",
      "Epoch 2/200\n",
      "2400/2400 [==============================] - 0s 15us/step - loss: 0.6037 - accuracy: 0.6854 - val_loss: 0.5803 - val_accuracy: 0.7017\n",
      "Epoch 3/200\n",
      "2400/2400 [==============================] - 0s 17us/step - loss: 0.5228 - accuracy: 0.7608 - val_loss: 0.5095 - val_accuracy: 0.7567\n",
      "Epoch 4/200\n",
      "2400/2400 [==============================] - 0s 14us/step - loss: 0.4669 - accuracy: 0.8050 - val_loss: 0.4584 - val_accuracy: 0.8067\n",
      "Epoch 5/200\n",
      "2400/2400 [==============================] - 0s 16us/step - loss: 0.4263 - accuracy: 0.8396 - val_loss: 0.4201 - val_accuracy: 0.8400\n",
      "Epoch 6/200\n",
      "2400/2400 [==============================] - 0s 13us/step - loss: 0.3942 - accuracy: 0.8562 - val_loss: 0.3902 - val_accuracy: 0.8550\n",
      "Epoch 7/200\n",
      "2400/2400 [==============================] - 0s 16us/step - loss: 0.3685 - accuracy: 0.8729 - val_loss: 0.3650 - val_accuracy: 0.8750\n",
      "Epoch 8/200\n",
      "2400/2400 [==============================] - 0s 21us/step - loss: 0.3469 - accuracy: 0.8813 - val_loss: 0.3444 - val_accuracy: 0.8833\n",
      "Epoch 9/200\n",
      "2400/2400 [==============================] - 0s 14us/step - loss: 0.3291 - accuracy: 0.8917 - val_loss: 0.3263 - val_accuracy: 0.8833\n",
      "Epoch 10/200\n",
      "2400/2400 [==============================] - 0s 16us/step - loss: 0.3139 - accuracy: 0.8950 - val_loss: 0.3109 - val_accuracy: 0.8917\n",
      "Epoch 11/200\n",
      "2400/2400 [==============================] - 0s 14us/step - loss: 0.3008 - accuracy: 0.8996 - val_loss: 0.2975 - val_accuracy: 0.8933\n",
      "Epoch 12/200\n",
      "2400/2400 [==============================] - 0s 14us/step - loss: 0.2898 - accuracy: 0.9029 - val_loss: 0.2851 - val_accuracy: 0.8983\n",
      "Epoch 13/200\n",
      "2400/2400 [==============================] - 0s 15us/step - loss: 0.2799 - accuracy: 0.9046 - val_loss: 0.2746 - val_accuracy: 0.9000\n",
      "Epoch 14/200\n",
      "2400/2400 [==============================] - 0s 13us/step - loss: 0.2708 - accuracy: 0.9100 - val_loss: 0.2653 - val_accuracy: 0.9117\n",
      "Epoch 15/200\n",
      "2400/2400 [==============================] - 0s 14us/step - loss: 0.2630 - accuracy: 0.9121 - val_loss: 0.2568 - val_accuracy: 0.9150\n",
      "Epoch 16/200\n",
      "2400/2400 [==============================] - 0s 15us/step - loss: 0.2558 - accuracy: 0.9146 - val_loss: 0.2492 - val_accuracy: 0.9150\n",
      "Epoch 17/200\n",
      "2400/2400 [==============================] - 0s 16us/step - loss: 0.2494 - accuracy: 0.9158 - val_loss: 0.2419 - val_accuracy: 0.9200\n",
      "Epoch 18/200\n",
      "2400/2400 [==============================] - 0s 15us/step - loss: 0.2433 - accuracy: 0.9171 - val_loss: 0.2358 - val_accuracy: 0.9217\n",
      "Epoch 19/200\n",
      "2400/2400 [==============================] - 0s 14us/step - loss: 0.2380 - accuracy: 0.9187 - val_loss: 0.2299 - val_accuracy: 0.9233\n",
      "Epoch 20/200\n",
      "2400/2400 [==============================] - 0s 14us/step - loss: 0.2330 - accuracy: 0.9204 - val_loss: 0.2243 - val_accuracy: 0.9250\n",
      "Epoch 21/200\n",
      "2400/2400 [==============================] - 0s 16us/step - loss: 0.2282 - accuracy: 0.9200 - val_loss: 0.2194 - val_accuracy: 0.9250\n",
      "Epoch 22/200\n",
      "2400/2400 [==============================] - 0s 16us/step - loss: 0.2239 - accuracy: 0.9225 - val_loss: 0.2153 - val_accuracy: 0.9250\n",
      "Epoch 23/200\n",
      "2400/2400 [==============================] - 0s 19us/step - loss: 0.2197 - accuracy: 0.9237 - val_loss: 0.2111 - val_accuracy: 0.9233\n",
      "Epoch 24/200\n",
      "2400/2400 [==============================] - 0s 14us/step - loss: 0.2161 - accuracy: 0.9254 - val_loss: 0.2072 - val_accuracy: 0.9267\n",
      "Epoch 25/200\n",
      "2400/2400 [==============================] - 0s 18us/step - loss: 0.2124 - accuracy: 0.9262 - val_loss: 0.2038 - val_accuracy: 0.9267\n",
      "Epoch 26/200\n",
      "2400/2400 [==============================] - 0s 10us/step - loss: 0.2092 - accuracy: 0.9287 - val_loss: 0.2003 - val_accuracy: 0.9267\n",
      "Epoch 27/200\n",
      "2400/2400 [==============================] - 0s 14us/step - loss: 0.2061 - accuracy: 0.9296 - val_loss: 0.1978 - val_accuracy: 0.9267\n",
      "Epoch 28/200\n",
      "2400/2400 [==============================] - 0s 13us/step - loss: 0.2030 - accuracy: 0.9304 - val_loss: 0.1950 - val_accuracy: 0.9267\n",
      "Epoch 29/200\n",
      "2400/2400 [==============================] - 0s 17us/step - loss: 0.2003 - accuracy: 0.9317 - val_loss: 0.1929 - val_accuracy: 0.9300\n",
      "Epoch 30/200\n",
      "2400/2400 [==============================] - 0s 18us/step - loss: 0.1976 - accuracy: 0.9321 - val_loss: 0.1902 - val_accuracy: 0.9300\n",
      "Epoch 31/200\n",
      "2400/2400 [==============================] - 0s 18us/step - loss: 0.1952 - accuracy: 0.9325 - val_loss: 0.1880 - val_accuracy: 0.9300\n",
      "Epoch 32/200\n",
      "2400/2400 [==============================] - 0s 16us/step - loss: 0.1927 - accuracy: 0.9329 - val_loss: 0.1859 - val_accuracy: 0.9317\n",
      "Epoch 33/200\n",
      "2400/2400 [==============================] - 0s 16us/step - loss: 0.1906 - accuracy: 0.9333 - val_loss: 0.1842 - val_accuracy: 0.9300\n",
      "Epoch 34/200\n",
      "2400/2400 [==============================] - 0s 17us/step - loss: 0.1885 - accuracy: 0.9337 - val_loss: 0.1826 - val_accuracy: 0.9300\n",
      "Epoch 35/200\n",
      "2400/2400 [==============================] - 0s 16us/step - loss: 0.1866 - accuracy: 0.9342 - val_loss: 0.1807 - val_accuracy: 0.9300\n",
      "Epoch 36/200\n",
      "2400/2400 [==============================] - 0s 17us/step - loss: 0.1848 - accuracy: 0.9350 - val_loss: 0.1788 - val_accuracy: 0.9300\n",
      "Epoch 37/200\n",
      "2400/2400 [==============================] - 0s 16us/step - loss: 0.1829 - accuracy: 0.9354 - val_loss: 0.1776 - val_accuracy: 0.9283\n",
      "Epoch 38/200\n",
      "2400/2400 [==============================] - 0s 19us/step - loss: 0.1812 - accuracy: 0.9350 - val_loss: 0.1762 - val_accuracy: 0.9300\n",
      "Epoch 39/200\n",
      "2400/2400 [==============================] - 0s 27us/step - loss: 0.1798 - accuracy: 0.9362 - val_loss: 0.1748 - val_accuracy: 0.9250\n",
      "Epoch 40/200\n",
      "2400/2400 [==============================] - 0s 26us/step - loss: 0.1781 - accuracy: 0.9375 - val_loss: 0.1737 - val_accuracy: 0.9267\n",
      "Epoch 41/200\n",
      "2400/2400 [==============================] - 0s 27us/step - loss: 0.1766 - accuracy: 0.9388 - val_loss: 0.1727 - val_accuracy: 0.9250\n",
      "Epoch 42/200\n",
      "2400/2400 [==============================] - 0s 24us/step - loss: 0.1751 - accuracy: 0.9379 - val_loss: 0.1713 - val_accuracy: 0.9283\n",
      "Epoch 43/200\n",
      "2400/2400 [==============================] - 0s 24us/step - loss: 0.1738 - accuracy: 0.9408 - val_loss: 0.1704 - val_accuracy: 0.9283\n",
      "Epoch 44/200\n",
      "2400/2400 [==============================] - 0s 26us/step - loss: 0.1722 - accuracy: 0.9404 - val_loss: 0.1695 - val_accuracy: 0.9267\n",
      "Epoch 45/200\n",
      "2400/2400 [==============================] - 0s 22us/step - loss: 0.1708 - accuracy: 0.9408 - val_loss: 0.1684 - val_accuracy: 0.9267\n",
      "Epoch 46/200\n",
      "2400/2400 [==============================] - 0s 25us/step - loss: 0.1696 - accuracy: 0.9408 - val_loss: 0.1678 - val_accuracy: 0.9267\n",
      "Epoch 47/200\n",
      "2400/2400 [==============================] - 0s 23us/step - loss: 0.1682 - accuracy: 0.9413 - val_loss: 0.1669 - val_accuracy: 0.9283\n",
      "Epoch 48/200\n",
      "2400/2400 [==============================] - 0s 24us/step - loss: 0.1671 - accuracy: 0.9417 - val_loss: 0.1662 - val_accuracy: 0.9300\n",
      "Epoch 49/200\n",
      "2400/2400 [==============================] - 0s 25us/step - loss: 0.1657 - accuracy: 0.9425 - val_loss: 0.1655 - val_accuracy: 0.9300\n",
      "Epoch 50/200\n",
      "2400/2400 [==============================] - 0s 28us/step - loss: 0.1646 - accuracy: 0.9425 - val_loss: 0.1648 - val_accuracy: 0.9317\n",
      "Epoch 51/200\n",
      "2400/2400 [==============================] - 0s 26us/step - loss: 0.1635 - accuracy: 0.9429 - val_loss: 0.1637 - val_accuracy: 0.9300\n",
      "Epoch 52/200\n",
      "2400/2400 [==============================] - 0s 24us/step - loss: 0.1624 - accuracy: 0.9438 - val_loss: 0.1633 - val_accuracy: 0.9300\n",
      "Epoch 53/200\n",
      "2400/2400 [==============================] - 0s 22us/step - loss: 0.1612 - accuracy: 0.9421 - val_loss: 0.1626 - val_accuracy: 0.9300\n",
      "Epoch 54/200\n",
      "2400/2400 [==============================] - 0s 24us/step - loss: 0.1601 - accuracy: 0.9442 - val_loss: 0.1622 - val_accuracy: 0.9333\n",
      "Epoch 55/200\n",
      "2400/2400 [==============================] - 0s 27us/step - loss: 0.1591 - accuracy: 0.9454 - val_loss: 0.1618 - val_accuracy: 0.9350\n",
      "Epoch 56/200\n",
      "2400/2400 [==============================] - 0s 25us/step - loss: 0.1582 - accuracy: 0.9454 - val_loss: 0.1618 - val_accuracy: 0.9333\n",
      "Epoch 57/200\n",
      "2400/2400 [==============================] - 0s 23us/step - loss: 0.1571 - accuracy: 0.9463 - val_loss: 0.1611 - val_accuracy: 0.9333\n",
      "Epoch 58/200\n",
      "2400/2400 [==============================] - 0s 27us/step - loss: 0.1561 - accuracy: 0.9471 - val_loss: 0.1605 - val_accuracy: 0.9333\n",
      "Epoch 59/200\n",
      "2400/2400 [==============================] - 0s 17us/step - loss: 0.1552 - accuracy: 0.9463 - val_loss: 0.1602 - val_accuracy: 0.9350\n",
      "Epoch 60/200\n",
      "2400/2400 [==============================] - 0s 12us/step - loss: 0.1542 - accuracy: 0.9467 - val_loss: 0.1598 - val_accuracy: 0.9350\n",
      "Epoch 61/200\n",
      "2400/2400 [==============================] - 0s 12us/step - loss: 0.1531 - accuracy: 0.9471 - val_loss: 0.1593 - val_accuracy: 0.9350\n",
      "Epoch 62/200\n",
      "2400/2400 [==============================] - 0s 12us/step - loss: 0.1524 - accuracy: 0.9471 - val_loss: 0.1593 - val_accuracy: 0.9333\n",
      "Epoch 63/200\n",
      "2400/2400 [==============================] - 0s 13us/step - loss: 0.1514 - accuracy: 0.9467 - val_loss: 0.1585 - val_accuracy: 0.9317\n",
      "Epoch 64/200\n",
      "2400/2400 [==============================] - 0s 15us/step - loss: 0.1505 - accuracy: 0.9475 - val_loss: 0.1586 - val_accuracy: 0.9317\n",
      "Epoch 65/200\n",
      "2400/2400 [==============================] - 0s 12us/step - loss: 0.1497 - accuracy: 0.9471 - val_loss: 0.1578 - val_accuracy: 0.9333\n",
      "Epoch 66/200\n",
      "2400/2400 [==============================] - 0s 12us/step - loss: 0.1489 - accuracy: 0.9475 - val_loss: 0.1577 - val_accuracy: 0.9333\n",
      "Epoch 67/200\n",
      "2400/2400 [==============================] - 0s 13us/step - loss: 0.1480 - accuracy: 0.9492 - val_loss: 0.1579 - val_accuracy: 0.9317\n",
      "Epoch 68/200\n",
      "2400/2400 [==============================] - 0s 11us/step - loss: 0.1473 - accuracy: 0.9500 - val_loss: 0.1570 - val_accuracy: 0.9333\n",
      "Epoch 69/200\n",
      "2400/2400 [==============================] - 0s 12us/step - loss: 0.1463 - accuracy: 0.9508 - val_loss: 0.1570 - val_accuracy: 0.9333\n",
      "Epoch 70/200\n",
      "2400/2400 [==============================] - 0s 12us/step - loss: 0.1454 - accuracy: 0.9517 - val_loss: 0.1567 - val_accuracy: 0.9350\n",
      "Epoch 71/200\n",
      "2400/2400 [==============================] - 0s 18us/step - loss: 0.1448 - accuracy: 0.9533 - val_loss: 0.1566 - val_accuracy: 0.9350\n",
      "Epoch 72/200\n",
      "2400/2400 [==============================] - 0s 15us/step - loss: 0.1441 - accuracy: 0.9521 - val_loss: 0.1565 - val_accuracy: 0.9317\n",
      "Epoch 73/200\n",
      "2400/2400 [==============================] - 0s 15us/step - loss: 0.1431 - accuracy: 0.9529 - val_loss: 0.1562 - val_accuracy: 0.9350\n",
      "Epoch 74/200\n",
      "2400/2400 [==============================] - 0s 14us/step - loss: 0.1424 - accuracy: 0.9538 - val_loss: 0.1563 - val_accuracy: 0.9333\n",
      "Epoch 75/200\n",
      "2400/2400 [==============================] - 0s 16us/step - loss: 0.1417 - accuracy: 0.9538 - val_loss: 0.1560 - val_accuracy: 0.9333\n",
      "Epoch 76/200\n",
      "2400/2400 [==============================] - 0s 18us/step - loss: 0.1408 - accuracy: 0.9554 - val_loss: 0.1560 - val_accuracy: 0.9350\n",
      "Epoch 77/200\n",
      "2400/2400 [==============================] - 0s 16us/step - loss: 0.1401 - accuracy: 0.9558 - val_loss: 0.1555 - val_accuracy: 0.9350\n",
      "Epoch 78/200\n",
      "2400/2400 [==============================] - 0s 14us/step - loss: 0.1394 - accuracy: 0.9550 - val_loss: 0.1560 - val_accuracy: 0.9350\n",
      "Epoch 79/200\n",
      "2400/2400 [==============================] - 0s 14us/step - loss: 0.1388 - accuracy: 0.9554 - val_loss: 0.1556 - val_accuracy: 0.9350\n",
      "Epoch 80/200\n",
      "2400/2400 [==============================] - 0s 15us/step - loss: 0.1380 - accuracy: 0.9550 - val_loss: 0.1556 - val_accuracy: 0.9350\n",
      "Epoch 81/200\n",
      "2400/2400 [==============================] - 0s 15us/step - loss: 0.1374 - accuracy: 0.9554 - val_loss: 0.1561 - val_accuracy: 0.9350\n",
      "Epoch 82/200\n",
      "2400/2400 [==============================] - 0s 18us/step - loss: 0.1366 - accuracy: 0.9550 - val_loss: 0.1558 - val_accuracy: 0.9333\n",
      "Epoch 83/200\n",
      "2400/2400 [==============================] - 0s 11us/step - loss: 0.1358 - accuracy: 0.9563 - val_loss: 0.1557 - val_accuracy: 0.9333\n",
      "Epoch 84/200\n",
      "2400/2400 [==============================] - 0s 12us/step - loss: 0.1352 - accuracy: 0.9567 - val_loss: 0.1555 - val_accuracy: 0.9333\n",
      "Epoch 85/200\n",
      "2400/2400 [==============================] - 0s 14us/step - loss: 0.1345 - accuracy: 0.9571 - val_loss: 0.1557 - val_accuracy: 0.9350\n",
      "Epoch 86/200\n",
      "2400/2400 [==============================] - 0s 14us/step - loss: 0.1338 - accuracy: 0.9571 - val_loss: 0.1554 - val_accuracy: 0.9367\n",
      "Epoch 87/200\n",
      "2400/2400 [==============================] - 0s 14us/step - loss: 0.1332 - accuracy: 0.9567 - val_loss: 0.1546 - val_accuracy: 0.9367\n",
      "Epoch 88/200\n",
      "2400/2400 [==============================] - 0s 14us/step - loss: 0.1325 - accuracy: 0.9571 - val_loss: 0.1547 - val_accuracy: 0.9350\n",
      "Epoch 89/200\n",
      "2400/2400 [==============================] - 0s 13us/step - loss: 0.1319 - accuracy: 0.9583 - val_loss: 0.1542 - val_accuracy: 0.9367\n",
      "Epoch 90/200\n",
      "2400/2400 [==============================] - 0s 12us/step - loss: 0.1313 - accuracy: 0.9579 - val_loss: 0.1539 - val_accuracy: 0.9367\n",
      "Epoch 91/200\n",
      "2400/2400 [==============================] - 0s 13us/step - loss: 0.1306 - accuracy: 0.9592 - val_loss: 0.1539 - val_accuracy: 0.9383\n",
      "Epoch 92/200\n",
      "2400/2400 [==============================] - 0s 17us/step - loss: 0.1300 - accuracy: 0.9592 - val_loss: 0.1544 - val_accuracy: 0.9367\n",
      "Epoch 93/200\n",
      "2400/2400 [==============================] - 0s 13us/step - loss: 0.1294 - accuracy: 0.9583 - val_loss: 0.1536 - val_accuracy: 0.9383\n",
      "Epoch 94/200\n",
      "2400/2400 [==============================] - 0s 14us/step - loss: 0.1288 - accuracy: 0.9588 - val_loss: 0.1532 - val_accuracy: 0.9400\n",
      "Epoch 95/200\n",
      "2400/2400 [==============================] - 0s 14us/step - loss: 0.1283 - accuracy: 0.9588 - val_loss: 0.1530 - val_accuracy: 0.9383\n",
      "Epoch 96/200\n",
      "2400/2400 [==============================] - 0s 12us/step - loss: 0.1277 - accuracy: 0.9588 - val_loss: 0.1532 - val_accuracy: 0.9383\n",
      "Epoch 97/200\n",
      "2400/2400 [==============================] - 0s 15us/step - loss: 0.1271 - accuracy: 0.9592 - val_loss: 0.1526 - val_accuracy: 0.9400\n",
      "Epoch 98/200\n",
      "2400/2400 [==============================] - 0s 17us/step - loss: 0.1264 - accuracy: 0.9596 - val_loss: 0.1524 - val_accuracy: 0.9400\n",
      "Epoch 99/200\n",
      "2400/2400 [==============================] - 0s 19us/step - loss: 0.1258 - accuracy: 0.9592 - val_loss: 0.1522 - val_accuracy: 0.9400\n",
      "Epoch 100/200\n",
      "2400/2400 [==============================] - 0s 17us/step - loss: 0.1251 - accuracy: 0.9596 - val_loss: 0.1524 - val_accuracy: 0.9367\n",
      "Epoch 101/200\n",
      "2400/2400 [==============================] - 0s 15us/step - loss: 0.1246 - accuracy: 0.9596 - val_loss: 0.1517 - val_accuracy: 0.9383\n",
      "Epoch 102/200\n",
      "2400/2400 [==============================] - 0s 16us/step - loss: 0.1241 - accuracy: 0.9588 - val_loss: 0.1513 - val_accuracy: 0.9350\n",
      "Epoch 103/200\n",
      "2400/2400 [==============================] - 0s 103us/step - loss: 0.1235 - accuracy: 0.9604 - val_loss: 0.1511 - val_accuracy: 0.9367\n",
      "Epoch 104/200\n",
      "2400/2400 [==============================] - 0s 25us/step - loss: 0.1231 - accuracy: 0.9604 - val_loss: 0.1508 - val_accuracy: 0.9367\n",
      "Epoch 105/200\n",
      "2400/2400 [==============================] - 0s 19us/step - loss: 0.1223 - accuracy: 0.9604 - val_loss: 0.1509 - val_accuracy: 0.9367\n",
      "Epoch 106/200\n",
      "2400/2400 [==============================] - 0s 27us/step - loss: 0.1218 - accuracy: 0.9608 - val_loss: 0.1510 - val_accuracy: 0.9367\n",
      "Epoch 107/200\n",
      "2400/2400 [==============================] - 0s 15us/step - loss: 0.1213 - accuracy: 0.9613 - val_loss: 0.1508 - val_accuracy: 0.9367\n",
      "Epoch 108/200\n",
      "2400/2400 [==============================] - 0s 16us/step - loss: 0.1207 - accuracy: 0.9617 - val_loss: 0.1504 - val_accuracy: 0.9383\n",
      "Epoch 109/200\n",
      "2400/2400 [==============================] - 0s 36us/step - loss: 0.1206 - accuracy: 0.9613 - val_loss: 0.1507 - val_accuracy: 0.9383\n",
      "Epoch 110/200\n",
      "2400/2400 [==============================] - 0s 22us/step - loss: 0.1198 - accuracy: 0.9608 - val_loss: 0.1502 - val_accuracy: 0.9367\n",
      "Epoch 111/200\n",
      "2400/2400 [==============================] - 0s 24us/step - loss: 0.1192 - accuracy: 0.9621 - val_loss: 0.1499 - val_accuracy: 0.9350\n",
      "Epoch 112/200\n",
      "2400/2400 [==============================] - 0s 78us/step - loss: 0.1187 - accuracy: 0.9625 - val_loss: 0.1500 - val_accuracy: 0.9400\n",
      "Epoch 113/200\n",
      "2400/2400 [==============================] - 0s 16us/step - loss: 0.1182 - accuracy: 0.9625 - val_loss: 0.1499 - val_accuracy: 0.9350\n",
      "Epoch 114/200\n",
      "2400/2400 [==============================] - 0s 24us/step - loss: 0.1178 - accuracy: 0.9625 - val_loss: 0.1503 - val_accuracy: 0.9367\n",
      "Epoch 115/200\n",
      "2400/2400 [==============================] - 0s 24us/step - loss: 0.1174 - accuracy: 0.9625 - val_loss: 0.1494 - val_accuracy: 0.9383\n",
      "Epoch 116/200\n",
      "2400/2400 [==============================] - 0s 16us/step - loss: 0.1168 - accuracy: 0.9625 - val_loss: 0.1495 - val_accuracy: 0.9350\n",
      "Epoch 117/200\n",
      "2400/2400 [==============================] - 0s 20us/step - loss: 0.1162 - accuracy: 0.9625 - val_loss: 0.1494 - val_accuracy: 0.9333\n",
      "Epoch 118/200\n",
      "2400/2400 [==============================] - 0s 16us/step - loss: 0.1157 - accuracy: 0.9625 - val_loss: 0.1492 - val_accuracy: 0.9367\n",
      "Epoch 119/200\n",
      "2400/2400 [==============================] - 0s 19us/step - loss: 0.1151 - accuracy: 0.9625 - val_loss: 0.1486 - val_accuracy: 0.9383\n",
      "Epoch 120/200\n",
      "2400/2400 [==============================] - 0s 18us/step - loss: 0.1146 - accuracy: 0.9629 - val_loss: 0.1490 - val_accuracy: 0.9350\n",
      "Epoch 121/200\n",
      "2400/2400 [==============================] - 0s 18us/step - loss: 0.1141 - accuracy: 0.9633 - val_loss: 0.1488 - val_accuracy: 0.9367\n",
      "Epoch 122/200\n",
      "2400/2400 [==============================] - 0s 21us/step - loss: 0.1137 - accuracy: 0.9629 - val_loss: 0.1492 - val_accuracy: 0.9400\n",
      "Epoch 123/200\n",
      "2400/2400 [==============================] - 0s 27us/step - loss: 0.1137 - accuracy: 0.9629 - val_loss: 0.1490 - val_accuracy: 0.9367\n",
      "Epoch 124/200\n",
      "2400/2400 [==============================] - 0s 33us/step - loss: 0.1128 - accuracy: 0.9633 - val_loss: 0.1489 - val_accuracy: 0.9350\n",
      "Epoch 125/200\n",
      "2400/2400 [==============================] - 0s 17us/step - loss: 0.1122 - accuracy: 0.9633 - val_loss: 0.1489 - val_accuracy: 0.9350\n",
      "Epoch 126/200\n",
      "2400/2400 [==============================] - 0s 18us/step - loss: 0.1118 - accuracy: 0.9633 - val_loss: 0.1483 - val_accuracy: 0.9383\n",
      "Epoch 127/200\n",
      "2400/2400 [==============================] - 0s 20us/step - loss: 0.1113 - accuracy: 0.9625 - val_loss: 0.1487 - val_accuracy: 0.9400\n",
      "Epoch 128/200\n",
      "2400/2400 [==============================] - 0s 19us/step - loss: 0.1110 - accuracy: 0.9638 - val_loss: 0.1483 - val_accuracy: 0.9383\n",
      "Epoch 129/200\n",
      "2400/2400 [==============================] - 0s 27us/step - loss: 0.1106 - accuracy: 0.9646 - val_loss: 0.1480 - val_accuracy: 0.9383\n",
      "Epoch 130/200\n",
      "2400/2400 [==============================] - 0s 26us/step - loss: 0.1101 - accuracy: 0.9642 - val_loss: 0.1484 - val_accuracy: 0.9383\n",
      "Epoch 131/200\n",
      "2400/2400 [==============================] - 0s 18us/step - loss: 0.1094 - accuracy: 0.9650 - val_loss: 0.1481 - val_accuracy: 0.9383\n",
      "Epoch 132/200\n",
      "2400/2400 [==============================] - 0s 55us/step - loss: 0.1091 - accuracy: 0.9650 - val_loss: 0.1484 - val_accuracy: 0.9383\n",
      "Epoch 133/200\n",
      "2400/2400 [==============================] - 0s 23us/step - loss: 0.1086 - accuracy: 0.9650 - val_loss: 0.1482 - val_accuracy: 0.9383\n",
      "Epoch 134/200\n",
      "2400/2400 [==============================] - 0s 19us/step - loss: 0.1082 - accuracy: 0.9650 - val_loss: 0.1482 - val_accuracy: 0.9367\n",
      "Epoch 135/200\n",
      "2400/2400 [==============================] - 0s 75us/step - loss: 0.1079 - accuracy: 0.9654 - val_loss: 0.1479 - val_accuracy: 0.9383\n",
      "Epoch 136/200\n",
      "2400/2400 [==============================] - 0s 14us/step - loss: 0.1076 - accuracy: 0.9663 - val_loss: 0.1478 - val_accuracy: 0.9383\n",
      "Epoch 137/200\n",
      "2400/2400 [==============================] - 0s 13us/step - loss: 0.1072 - accuracy: 0.9658 - val_loss: 0.1483 - val_accuracy: 0.9383\n",
      "Epoch 138/200\n",
      "2400/2400 [==============================] - 0s 12us/step - loss: 0.1066 - accuracy: 0.9663 - val_loss: 0.1482 - val_accuracy: 0.9383\n",
      "Epoch 139/200\n",
      "2400/2400 [==============================] - 0s 22us/step - loss: 0.1060 - accuracy: 0.9671 - val_loss: 0.1481 - val_accuracy: 0.9383\n",
      "Epoch 140/200\n",
      "2400/2400 [==============================] - 0s 12us/step - loss: 0.1058 - accuracy: 0.9658 - val_loss: 0.1482 - val_accuracy: 0.9417\n",
      "Epoch 141/200\n",
      "2400/2400 [==============================] - 0s 11us/step - loss: 0.1053 - accuracy: 0.9667 - val_loss: 0.1479 - val_accuracy: 0.9383\n",
      "Epoch 142/200\n",
      "2400/2400 [==============================] - 0s 12us/step - loss: 0.1050 - accuracy: 0.9683 - val_loss: 0.1483 - val_accuracy: 0.9400\n",
      "Epoch 143/200\n",
      "2400/2400 [==============================] - 0s 12us/step - loss: 0.1044 - accuracy: 0.9683 - val_loss: 0.1476 - val_accuracy: 0.9383\n",
      "Epoch 144/200\n",
      "2400/2400 [==============================] - 0s 13us/step - loss: 0.1040 - accuracy: 0.9683 - val_loss: 0.1476 - val_accuracy: 0.9400\n",
      "Epoch 145/200\n",
      "2400/2400 [==============================] - 0s 13us/step - loss: 0.1038 - accuracy: 0.9671 - val_loss: 0.1480 - val_accuracy: 0.9383\n",
      "Epoch 146/200\n",
      "2400/2400 [==============================] - 0s 17us/step - loss: 0.1032 - accuracy: 0.9688 - val_loss: 0.1479 - val_accuracy: 0.9417\n",
      "Epoch 147/200\n",
      "2400/2400 [==============================] - 0s 25us/step - loss: 0.1030 - accuracy: 0.9688 - val_loss: 0.1479 - val_accuracy: 0.9400\n",
      "Epoch 148/200\n",
      "2400/2400 [==============================] - 0s 22us/step - loss: 0.1024 - accuracy: 0.9679 - val_loss: 0.1480 - val_accuracy: 0.9383\n",
      "Epoch 149/200\n",
      "2400/2400 [==============================] - 0s 20us/step - loss: 0.1020 - accuracy: 0.9688 - val_loss: 0.1480 - val_accuracy: 0.9400\n",
      "Epoch 150/200\n",
      "2400/2400 [==============================] - 0s 17us/step - loss: 0.1018 - accuracy: 0.9700 - val_loss: 0.1482 - val_accuracy: 0.9400\n",
      "Epoch 151/200\n",
      "2400/2400 [==============================] - 0s 11us/step - loss: 0.1014 - accuracy: 0.9696 - val_loss: 0.1483 - val_accuracy: 0.9433\n",
      "Epoch 152/200\n",
      "2400/2400 [==============================] - 0s 14us/step - loss: 0.1012 - accuracy: 0.9692 - val_loss: 0.1482 - val_accuracy: 0.9400\n",
      "Epoch 153/200\n",
      "2400/2400 [==============================] - 0s 13us/step - loss: 0.1007 - accuracy: 0.9683 - val_loss: 0.1478 - val_accuracy: 0.9400\n",
      "Epoch 154/200\n",
      "2400/2400 [==============================] - 0s 71us/step - loss: 0.1002 - accuracy: 0.9696 - val_loss: 0.1481 - val_accuracy: 0.9400\n",
      "Epoch 155/200\n",
      "2400/2400 [==============================] - 0s 45us/step - loss: 0.0998 - accuracy: 0.9700 - val_loss: 0.1480 - val_accuracy: 0.9417\n",
      "Epoch 156/200\n",
      "2400/2400 [==============================] - 0s 43us/step - loss: 0.0994 - accuracy: 0.9704 - val_loss: 0.1479 - val_accuracy: 0.9417\n",
      "Epoch 157/200\n",
      "2400/2400 [==============================] - 0s 25us/step - loss: 0.0990 - accuracy: 0.9692 - val_loss: 0.1481 - val_accuracy: 0.9383\n",
      "Epoch 158/200\n",
      "2400/2400 [==============================] - 0s 15us/step - loss: 0.0986 - accuracy: 0.9696 - val_loss: 0.1477 - val_accuracy: 0.9400\n",
      "Epoch 159/200\n",
      "2400/2400 [==============================] - 0s 15us/step - loss: 0.0986 - accuracy: 0.9708 - val_loss: 0.1478 - val_accuracy: 0.9417\n",
      "Epoch 160/200\n",
      "2400/2400 [==============================] - 0s 19us/step - loss: 0.0979 - accuracy: 0.9704 - val_loss: 0.1477 - val_accuracy: 0.9400\n",
      "Epoch 161/200\n",
      "2400/2400 [==============================] - 0s 19us/step - loss: 0.0977 - accuracy: 0.9700 - val_loss: 0.1482 - val_accuracy: 0.9417\n",
      "Epoch 162/200\n",
      "2400/2400 [==============================] - 0s 20us/step - loss: 0.0972 - accuracy: 0.9712 - val_loss: 0.1483 - val_accuracy: 0.9400\n",
      "Epoch 163/200\n",
      "2400/2400 [==============================] - 0s 20us/step - loss: 0.0967 - accuracy: 0.9704 - val_loss: 0.1485 - val_accuracy: 0.9400\n",
      "Epoch 164/200\n",
      "2400/2400 [==============================] - 0s 20us/step - loss: 0.0965 - accuracy: 0.9704 - val_loss: 0.1482 - val_accuracy: 0.9417\n",
      "Epoch 165/200\n",
      "2400/2400 [==============================] - 0s 19us/step - loss: 0.0962 - accuracy: 0.9708 - val_loss: 0.1479 - val_accuracy: 0.9417\n",
      "Epoch 166/200\n",
      "2400/2400 [==============================] - 0s 19us/step - loss: 0.0958 - accuracy: 0.9708 - val_loss: 0.1480 - val_accuracy: 0.9417\n",
      "Epoch 167/200\n",
      "2400/2400 [==============================] - 0s 22us/step - loss: 0.0958 - accuracy: 0.9717 - val_loss: 0.1485 - val_accuracy: 0.9383\n",
      "Epoch 168/200\n",
      "2400/2400 [==============================] - 0s 19us/step - loss: 0.0950 - accuracy: 0.9717 - val_loss: 0.1478 - val_accuracy: 0.9400\n",
      "Epoch 169/200\n",
      "2400/2400 [==============================] - 0s 17us/step - loss: 0.0947 - accuracy: 0.9708 - val_loss: 0.1476 - val_accuracy: 0.9400\n",
      "Epoch 170/200\n",
      "2400/2400 [==============================] - 0s 19us/step - loss: 0.0945 - accuracy: 0.9712 - val_loss: 0.1480 - val_accuracy: 0.9417\n",
      "Epoch 171/200\n",
      "2400/2400 [==============================] - 0s 23us/step - loss: 0.0940 - accuracy: 0.9717 - val_loss: 0.1487 - val_accuracy: 0.9417\n",
      "Epoch 172/200\n",
      "2400/2400 [==============================] - 0s 20us/step - loss: 0.0936 - accuracy: 0.9721 - val_loss: 0.1485 - val_accuracy: 0.9400\n",
      "Epoch 173/200\n",
      "2400/2400 [==============================] - 0s 17us/step - loss: 0.0934 - accuracy: 0.9717 - val_loss: 0.1483 - val_accuracy: 0.9400\n",
      "Epoch 174/200\n",
      "2400/2400 [==============================] - 0s 24us/step - loss: 0.0930 - accuracy: 0.9712 - val_loss: 0.1485 - val_accuracy: 0.9400\n",
      "Epoch 175/200\n",
      "2400/2400 [==============================] - 0s 16us/step - loss: 0.0927 - accuracy: 0.9721 - val_loss: 0.1482 - val_accuracy: 0.9400\n",
      "Epoch 176/200\n",
      "2400/2400 [==============================] - 0s 19us/step - loss: 0.0927 - accuracy: 0.9721 - val_loss: 0.1480 - val_accuracy: 0.9433\n",
      "Epoch 177/200\n",
      "2400/2400 [==============================] - 0s 14us/step - loss: 0.0921 - accuracy: 0.9717 - val_loss: 0.1484 - val_accuracy: 0.9383\n",
      "Epoch 178/200\n",
      "2400/2400 [==============================] - 0s 17us/step - loss: 0.0917 - accuracy: 0.9725 - val_loss: 0.1482 - val_accuracy: 0.9400\n",
      "Epoch 179/200\n",
      "2400/2400 [==============================] - 0s 18us/step - loss: 0.0913 - accuracy: 0.9725 - val_loss: 0.1482 - val_accuracy: 0.9400\n",
      "Epoch 180/200\n",
      "2400/2400 [==============================] - 0s 18us/step - loss: 0.0911 - accuracy: 0.9721 - val_loss: 0.1483 - val_accuracy: 0.9417\n",
      "Epoch 181/200\n",
      "2400/2400 [==============================] - 0s 16us/step - loss: 0.0909 - accuracy: 0.9725 - val_loss: 0.1480 - val_accuracy: 0.9400\n",
      "Epoch 182/200\n",
      "2400/2400 [==============================] - 0s 18us/step - loss: 0.0907 - accuracy: 0.9721 - val_loss: 0.1482 - val_accuracy: 0.9417\n",
      "Epoch 183/200\n",
      "2400/2400 [==============================] - 0s 17us/step - loss: 0.0902 - accuracy: 0.9721 - val_loss: 0.1486 - val_accuracy: 0.9400\n",
      "Epoch 184/200\n",
      "2400/2400 [==============================] - 0s 16us/step - loss: 0.0900 - accuracy: 0.9717 - val_loss: 0.1480 - val_accuracy: 0.9417\n",
      "Epoch 185/200\n",
      "2400/2400 [==============================] - 0s 17us/step - loss: 0.0895 - accuracy: 0.9729 - val_loss: 0.1481 - val_accuracy: 0.9400\n",
      "Epoch 186/200\n",
      "2400/2400 [==============================] - 0s 13us/step - loss: 0.0892 - accuracy: 0.9729 - val_loss: 0.1484 - val_accuracy: 0.9400\n",
      "Epoch 187/200\n",
      "2400/2400 [==============================] - 0s 16us/step - loss: 0.0888 - accuracy: 0.9733 - val_loss: 0.1483 - val_accuracy: 0.9433\n",
      "Epoch 188/200\n",
      "2400/2400 [==============================] - 0s 17us/step - loss: 0.0888 - accuracy: 0.9721 - val_loss: 0.1488 - val_accuracy: 0.9417\n",
      "Epoch 189/200\n",
      "2400/2400 [==============================] - 0s 14us/step - loss: 0.0885 - accuracy: 0.9733 - val_loss: 0.1486 - val_accuracy: 0.9400\n",
      "Epoch 190/200\n",
      "2400/2400 [==============================] - 0s 18us/step - loss: 0.0881 - accuracy: 0.9737 - val_loss: 0.1485 - val_accuracy: 0.9417\n",
      "Epoch 191/200\n",
      "2400/2400 [==============================] - 0s 19us/step - loss: 0.0878 - accuracy: 0.9721 - val_loss: 0.1488 - val_accuracy: 0.9417\n",
      "Epoch 192/200\n",
      "2400/2400 [==============================] - 0s 15us/step - loss: 0.0877 - accuracy: 0.9733 - val_loss: 0.1484 - val_accuracy: 0.9417\n",
      "Epoch 193/200\n",
      "2400/2400 [==============================] - 0s 32us/step - loss: 0.0871 - accuracy: 0.9742 - val_loss: 0.1486 - val_accuracy: 0.9417\n",
      "Epoch 194/200\n",
      "2400/2400 [==============================] - 0s 30us/step - loss: 0.0868 - accuracy: 0.9733 - val_loss: 0.1487 - val_accuracy: 0.9433\n",
      "Epoch 195/200\n",
      "2400/2400 [==============================] - 0s 24us/step - loss: 0.0866 - accuracy: 0.9725 - val_loss: 0.1489 - val_accuracy: 0.9417\n",
      "Epoch 196/200\n",
      "2400/2400 [==============================] - 0s 18us/step - loss: 0.0862 - accuracy: 0.9742 - val_loss: 0.1489 - val_accuracy: 0.9433\n",
      "Epoch 197/200\n",
      "2400/2400 [==============================] - 0s 18us/step - loss: 0.0861 - accuracy: 0.9742 - val_loss: 0.1488 - val_accuracy: 0.9400\n",
      "Epoch 198/200\n",
      "2400/2400 [==============================] - 0s 17us/step - loss: 0.0857 - accuracy: 0.9737 - val_loss: 0.1485 - val_accuracy: 0.9417\n",
      "Epoch 199/200\n",
      "2400/2400 [==============================] - 0s 17us/step - loss: 0.0855 - accuracy: 0.9737 - val_loss: 0.1483 - val_accuracy: 0.9400\n",
      "Epoch 200/200\n",
      "2400/2400 [==============================] - 0s 15us/step - loss: 0.0852 - accuracy: 0.9742 - val_loss: 0.1492 - val_accuracy: 0.9433\n"
     ]
    }
   ],
   "source": [
    "history = model.fit(x_train, y_train, epochs=200, validation_data = (x_Validation, y_Validation), batch_size=200)\n"
   ]
  },
  {
   "cell_type": "code",
   "execution_count": 14,
   "metadata": {
    "scrolled": true
   },
   "outputs": [
    {
     "data": {
      "image/png": "[encoded data removed]",
      "text/plain": [
       "<Figure size 432x288 with 1 Axes>"
      ]
     },
     "metadata": {},
     "output_type": "display_data"
    }
   ],
   "source": [
    "loss = history.history['loss']\n",
    "val_loss = history.history['val_loss']\n",
    "epochs = range(1, len(loss) + 1)\n",
    "plt.plot(epochs,loss, 'y', label='Training loss')\n",
    "plt.plot(epochs,val_loss, 'b', label='Validation loss')\n",
    "plt.title('Training and validation loss')\n",
    "plt.xlabel('Epochs')\n",
    "plt.ylabel('Loss')\n",
    "plt.legend()\n",
    "plt.show()"
   ]
  },
  {
   "cell_type": "code",
   "execution_count": 15,
   "metadata": {
    "scrolled": false
   },
   "outputs": [
    {
     "data": {
      "image/png": "[encoded data removed]",
      "text/plain": [
       "<Figure size 432x288 with 1 Axes>"
      ]
     },
     "metadata": {},
     "output_type": "display_data"
    }
   ],
   "source": [
    "acc = history.history['accuracy']\n",
    "val_acc = history.history['val_accuracy']\n",
    "epochs = range(1, len(acc) + 1)\n",
    "plt.plot(epochs,acc, 'y', label='Training accuracy')\n",
    "plt.plot(epochs,val_acc, 'b', label='Validation accuracy') \n",
    "plt.title('Training and validation accuracy')\n",
    "plt.xlabel('Epochs')\n",
    "plt.ylabel('Accuracy')\n",
    "plt.legend()\n",
    "plt.show()"
   ]
  },
  {
   "cell_type": "code",
   "execution_count": null,
   "metadata": {},
   "outputs": [],
   "source": []
  },
  {
   "cell_type": "code",
   "execution_count": null,
   "metadata": {},
   "outputs": [],
   "source": []
  }
 ],
 "metadata": {
  "accelerator": "GPU",
  "colab": {
   "collapsed_sections": [],
   "name": "Spambase.ipynb",
   "provenance": [],
   "toc_visible": true
  },
  "kernelspec": {
   "display_name": "Python 3 (ipykernel)",
   "language": "python",
   "name": "python3"
  },
  "language_info": {
   "codemirror_mode": {
    "name": "ipython",
    "version": 3
   },
   "file_extension": ".py",
   "mimetype": "text/x-python",
   "name": "python",
   "nbconvert_exporter": "python",
   "pygments_lexer": "ipython3",
   "version": "3.7.7"
  }
 },
 "nbformat": 4,
 "nbformat_minor": 1
}
